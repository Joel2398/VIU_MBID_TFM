{
 "cells": [
  {
   "cell_type": "code",
   "execution_count": 8,
   "metadata": {},
   "outputs": [],
   "source": [
    "import json\n",
    "import os\n",
    "\n",
    "# Ruta al archivo de configuración JSON\n",
    "config_file_path = '../cfg-data/env-config.json'\n",
    "\n",
    "def read_config(filename):\n",
    "    with open(filename, 'r') as f:\n",
    "        data = json.load(f)\n",
    "        return data\n",
    "\n",
    "# Leer la configuración\n",
    "config_data = read_config(config_file_path)\n",
    "\n",
    "# Extraer los parámetros necesarios\n",
    "INFLUXDB_IP = config_data['env']['INFLUXDB_IP']\n",
    "INFLUXDB_DATABASE = config_data['env']['INFLUXDB_DATABASE']\n"
   ]
  },
  {
   "cell_type": "code",
   "execution_count": 1,
   "metadata": {},
   "outputs": [
    {
     "name": "stdout",
     "output_type": "stream",
     "text": [
      "Requirement already satisfied: pandas in /home/joel2398/Documentos/TFM/EdgeOEE_AI/.venv/lib/python3.12/site-packages (2.2.2)\n",
      "Requirement already satisfied: numpy>=1.26.0 in /home/joel2398/Documentos/TFM/EdgeOEE_AI/.venv/lib/python3.12/site-packages (from pandas) (2.1.1)\n",
      "Requirement already satisfied: python-dateutil>=2.8.2 in /home/joel2398/Documentos/TFM/EdgeOEE_AI/.venv/lib/python3.12/site-packages (from pandas) (2.9.0.post0)\n",
      "Requirement already satisfied: pytz>=2020.1 in /home/joel2398/Documentos/TFM/EdgeOEE_AI/.venv/lib/python3.12/site-packages (from pandas) (2024.1)\n",
      "Requirement already satisfied: tzdata>=2022.7 in /home/joel2398/Documentos/TFM/EdgeOEE_AI/.venv/lib/python3.12/site-packages (from pandas) (2024.1)\n",
      "Requirement already satisfied: six>=1.5 in /home/joel2398/Documentos/TFM/EdgeOEE_AI/.venv/lib/python3.12/site-packages (from python-dateutil>=2.8.2->pandas) (1.16.0)\n",
      "Note: you may need to restart the kernel to use updated packages.\n",
      "Requirement already satisfied: influxdb in /home/joel2398/Documentos/TFM/EdgeOEE_AI/.venv/lib/python3.12/site-packages (5.3.2)\n",
      "Requirement already satisfied: python-dateutil>=2.6.0 in /home/joel2398/Documentos/TFM/EdgeOEE_AI/.venv/lib/python3.12/site-packages (from influxdb) (2.9.0.post0)\n",
      "Requirement already satisfied: pytz in /home/joel2398/Documentos/TFM/EdgeOEE_AI/.venv/lib/python3.12/site-packages (from influxdb) (2024.1)\n",
      "Requirement already satisfied: requests>=2.17.0 in /home/joel2398/Documentos/TFM/EdgeOEE_AI/.venv/lib/python3.12/site-packages (from influxdb) (2.32.3)\n",
      "Requirement already satisfied: six>=1.10.0 in /home/joel2398/Documentos/TFM/EdgeOEE_AI/.venv/lib/python3.12/site-packages (from influxdb) (1.16.0)\n",
      "Requirement already satisfied: msgpack in /home/joel2398/Documentos/TFM/EdgeOEE_AI/.venv/lib/python3.12/site-packages (from influxdb) (1.1.0)\n",
      "Requirement already satisfied: charset-normalizer<4,>=2 in /home/joel2398/Documentos/TFM/EdgeOEE_AI/.venv/lib/python3.12/site-packages (from requests>=2.17.0->influxdb) (3.3.2)\n",
      "Requirement already satisfied: idna<4,>=2.5 in /home/joel2398/Documentos/TFM/EdgeOEE_AI/.venv/lib/python3.12/site-packages (from requests>=2.17.0->influxdb) (3.8)\n",
      "Requirement already satisfied: urllib3<3,>=1.21.1 in /home/joel2398/Documentos/TFM/EdgeOEE_AI/.venv/lib/python3.12/site-packages (from requests>=2.17.0->influxdb) (2.2.2)\n",
      "Requirement already satisfied: certifi>=2017.4.17 in /home/joel2398/Documentos/TFM/EdgeOEE_AI/.venv/lib/python3.12/site-packages (from requests>=2.17.0->influxdb) (2024.8.30)\n",
      "Note: you may need to restart the kernel to use updated packages.\n"
     ]
    }
   ],
   "source": [
    "%pip install pandas\n",
    "%pip install influxdb"
   ]
  },
  {
   "cell_type": "code",
   "execution_count": 11,
   "metadata": {},
   "outputs": [
    {
     "name": "stdout",
     "output_type": "stream",
     "text": [
      "[<FluxTable: 8 columns, 10 records>, <FluxTable: 8 columns, 10 records>, <FluxTable: 8 columns, 10 records>, <FluxTable: 8 columns, 10 records>, <FluxTable: 8 columns, 10 records>, <FluxTable: 8 columns, 10 records>, <FluxTable: 8 columns, 10 records>, <FluxTable: 8 columns, 10 records>, <FluxTable: 8 columns, 10 records>, <FluxTable: 8 columns, 10 records>, <FluxTable: 8 columns, 10 records>, <FluxTable: 8 columns, 10 records>, <FluxTable: 8 columns, 10 records>, <FluxTable: 8 columns, 10 records>, <FluxTable: 8 columns, 10 records>, <FluxTable: 8 columns, 10 records>, <FluxTable: 8 columns, 10 records>, <FluxTable: 8 columns, 10 records>, <FluxTable: 8 columns, 10 records>, <FluxTable: 8 columns, 10 records>, <FluxTable: 8 columns, 10 records>, <FluxTable: 8 columns, 10 records>, <FluxTable: 8 columns, 10 records>, <FluxTable: 8 columns, 10 records>, <FluxTable: 8 columns, 10 records>, <FluxTable: 8 columns, 10 records>, <FluxTable: 8 columns, 10 records>, <FluxTable: 8 columns, 10 records>, <FluxTable: 8 columns, 10 records>, <FluxTable: 8 columns, 10 records>, <FluxTable: 8 columns, 10 records>, <FluxTable: 8 columns, 10 records>, <FluxTable: 8 columns, 10 records>, <FluxTable: 8 columns, 10 records>, <FluxTable: 8 columns, 10 records>, <FluxTable: 8 columns, 10 records>, <FluxTable: 8 columns, 10 records>, <FluxTable: 8 columns, 10 records>, <FluxTable: 8 columns, 10 records>, <FluxTable: 8 columns, 10 records>, <FluxTable: 8 columns, 10 records>, <FluxTable: 8 columns, 10 records>, <FluxTable: 8 columns, 10 records>, <FluxTable: 8 columns, 10 records>, <FluxTable: 8 columns, 10 records>, <FluxTable: 8 columns, 10 records>, <FluxTable: 8 columns, 10 records>, <FluxTable: 8 columns, 10 records>, <FluxTable: 8 columns, 10 records>, <FluxTable: 8 columns, 10 records>, <FluxTable: 8 columns, 10 records>, <FluxTable: 8 columns, 10 records>]\n",
      "      result  table                           _start  \\\n",
      "0    _result      0 2024-09-11 10:33:22.592192+00:00   \n",
      "1    _result      0 2024-09-11 10:33:22.592192+00:00   \n",
      "2    _result      0 2024-09-11 10:33:22.592192+00:00   \n",
      "3    _result      0 2024-09-11 10:33:22.592192+00:00   \n",
      "4    _result      0 2024-09-11 10:33:22.592192+00:00   \n",
      "..       ...    ...                              ...   \n",
      "515  _result     51 2024-09-11 10:33:22.592192+00:00   \n",
      "516  _result     51 2024-09-11 10:33:22.592192+00:00   \n",
      "517  _result     51 2024-09-11 10:33:22.592192+00:00   \n",
      "518  _result     51 2024-09-11 10:33:22.592192+00:00   \n",
      "519  _result     51 2024-09-11 10:33:22.592192+00:00   \n",
      "\n",
      "                               _stop                            _time  _value  \\\n",
      "0   2024-09-11 11:33:22.592192+00:00 2024-09-11 10:33:27.316341+00:00     0.0   \n",
      "1   2024-09-11 11:33:22.592192+00:00 2024-09-11 10:33:42.321707+00:00     0.0   \n",
      "2   2024-09-11 11:33:22.592192+00:00 2024-09-11 10:33:57.326256+00:00     0.0   \n",
      "3   2024-09-11 11:33:22.592192+00:00 2024-09-11 10:34:12.332075+00:00     0.0   \n",
      "4   2024-09-11 11:33:22.592192+00:00 2024-09-11 10:34:27.345763+00:00     0.0   \n",
      "..                               ...                              ...     ...   \n",
      "515 2024-09-11 11:33:22.592192+00:00 2024-09-11 10:34:42.351034+00:00     NaN   \n",
      "516 2024-09-11 11:33:22.592192+00:00 2024-09-11 10:34:57.356583+00:00     NaN   \n",
      "517 2024-09-11 11:33:22.592192+00:00 2024-09-11 10:35:12.361422+00:00     NaN   \n",
      "518 2024-09-11 11:33:22.592192+00:00 2024-09-11 10:35:27.369871+00:00     NaN   \n",
      "519 2024-09-11 11:33:22.592192+00:00 2024-09-11 10:35:42.377035+00:00     NaN   \n",
      "\n",
      "                                                _field            _measurement  \n",
      "0      120210R01_FB_SEAT_Statistik_ZAU.120210R01.N_NOK  KELABO1-----BS1---KFU1  \n",
      "1      120210R01_FB_SEAT_Statistik_ZAU.120210R01.N_NOK  KELABO1-----BS1---KFU1  \n",
      "2      120210R01_FB_SEAT_Statistik_ZAU.120210R01.N_NOK  KELABO1-----BS1---KFU1  \n",
      "3      120210R01_FB_SEAT_Statistik_ZAU.120210R01.N_NOK  KELABO1-----BS1---KFU1  \n",
      "4      120210R01_FB_SEAT_Statistik_ZAU.120210R01.N_NOK  KELABO1-----BS1---KFU1  \n",
      "..                                                 ...                     ...  \n",
      "515  120210R01_FB_SEAT_Statistik_ZAU.120210R01.Vers...  KELABO1-----BS1---KFU1  \n",
      "516  120210R01_FB_SEAT_Statistik_ZAU.120210R01.Vers...  KELABO1-----BS1---KFU1  \n",
      "517  120210R01_FB_SEAT_Statistik_ZAU.120210R01.Vers...  KELABO1-----BS1---KFU1  \n",
      "518  120210R01_FB_SEAT_Statistik_ZAU.120210R01.Vers...  KELABO1-----BS1---KFU1  \n",
      "519  120210R01_FB_SEAT_Statistik_ZAU.120210R01.Vers...  KELABO1-----BS1---KFU1  \n",
      "\n",
      "[520 rows x 8 columns]\n"
     ]
    }
   ],
   "source": [
    "# Asegúrate de tener las librerías necesarias instaladas\n",
    "# !pip install influxdb-client pandas\n",
    "\n",
    "import pandas as pd\n",
    "from influxdb_client import InfluxDBClient\n",
    "\n",
    "# Configuración de InfluxDB\n",
    "INFLUXDB_URL = 'http://localhost:8086'  # Cambia esto según tu configuración\n",
    "INFLUXDB_TOKEN = '3V-nsBPPoqOWEzCO0I72seM52mWLnpt_jxx1-Jgiahox4uoDpF0IwFw2w2HN-JRpfvgCfiB9ibuqIDG5w5b97A=='       # Cambia esto por tu token\n",
    "INFLUXDB_ORG = 'my-org'                # Cambia esto por tu organización\n",
    "INFLUXDB_BUCKET = 'my-bucket'          # Cambia esto por tu bucket\n",
    "\n",
    "# Consulta Flux\n",
    "query = '''\n",
    "from(bucket: \"my-bucket\")\n",
    "  |> range(start: -1h)  // Consulta datos de la última hora\n",
    "  |> limit(n: 10)  // Limitar a los primeros 10 resultados\n",
    "'''\n",
    "\n",
    "# Crear el cliente de InfluxDB\n",
    "client = InfluxDBClient(url=INFLUXDB_URL, token=INFLUXDB_TOKEN, org=INFLUXDB_ORG)\n",
    "\n",
    "# Ejecutar la consulta\n",
    "query_api = client.query_api()\n",
    "result = query_api.query(org=INFLUXDB_ORG, query=query)\n",
    "print(result)\n",
    "# Convertir el resultado en un DataFrame de pandas\n",
    "records = []\n",
    "for table in result:\n",
    "    for record in table.records:\n",
    "        records.append(record.values)\n",
    "\n",
    "df = pd.DataFrame(records)\n",
    "\n",
    "# Mostrar el DataFrame\n",
    "\n",
    "print(df)\n",
    "\n",
    "# Cerrar el cliente de InfluxDB\n",
    "client.close()\n"
   ]
  }
 ],
 "metadata": {
  "kernelspec": {
   "display_name": "Python 3",
   "language": "python",
   "name": "python3"
  },
  "language_info": {
   "codemirror_mode": {
    "name": "ipython",
    "version": 3
   },
   "file_extension": ".py",
   "mimetype": "text/x-python",
   "name": "python",
   "nbconvert_exporter": "python",
   "pygments_lexer": "ipython3",
   "version": "3.12.3"
  }
 },
 "nbformat": 4,
 "nbformat_minor": 2
}
