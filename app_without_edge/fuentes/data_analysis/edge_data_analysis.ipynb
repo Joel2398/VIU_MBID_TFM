{
 "cells": [
  {
   "cell_type": "code",
   "execution_count": null,
   "metadata": {},
   "outputs": [],
   "source": [
    "import json\n",
    "import os\n",
    "\n",
    "# Ruta al archivo de configuración JSON\n",
    "config_file_path = 'app_without_edge/fuentes/cfg-data/env-config.json'\n",
    "\n",
    "def read_config(filename):\n",
    "    with open(filename, 'r') as f:\n",
    "        data = json.load(f)\n",
    "        return data\n",
    "\n",
    "# Leer la configuración\n",
    "config_data = read_config(config_file_path)\n",
    "\n",
    "# Extraer los parámetros necesarios\n",
    "INFLUXDB_IP = config_data['env']['INFLUXDB_IP']\n",
    "INFLUXDB_DATABASE = config_data['env']['INFLUXDB_DATABASE']\n"
   ]
  },
  {
   "cell_type": "code",
   "execution_count": null,
   "metadata": {},
   "outputs": [],
   "source": [
    "from influxdb_client import InfluxDBClient\n",
    "\n",
    "# Parámetros de conexión extraídos del archivo JSON\n",
    "url = f\"http://{INFLUXDB_IP}:8086\"  # Formateamos la URL de conexión\n",
    "token = \"your-token\"  # Asegúrate de obtener o crear un token de acceso\n",
    "org = \"your-org\"  # Cambia esto por tu organización en InfluxDB\n",
    "bucket = INFLUXDB_DATABASE  # El nombre del bucket es tu base de datos\n",
    "\n",
    "# Crear el cliente de InfluxDB\n",
    "client = InfluxDBClient(url=url, token=token, org=org)\n",
    "\n",
    "# Consulta de ejemplo para obtener datos del último día\n",
    "query = f'from(bucket: \"{bucket}\") |> range(start: -1d)'\n",
    "\n",
    "# Ejecutar la consulta\n",
    "query_api = client.query_api()\n",
    "result = query_api.query(query)\n",
    "\n",
    "# Mostrar algunos datos de la consulta\n",
    "for table in result:\n",
    "    for record in table.records:\n",
    "        print(f'{record.get_time()} {record.get_measurement()}: {record.get_value()}')\n"
   ]
  }
 ],
 "metadata": {
  "language_info": {
   "name": "python"
  }
 },
 "nbformat": 4,
 "nbformat_minor": 2
}
